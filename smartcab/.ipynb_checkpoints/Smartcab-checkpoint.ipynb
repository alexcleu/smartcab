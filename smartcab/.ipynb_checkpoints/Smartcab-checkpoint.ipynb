{
 "cells": [
  {
   "cell_type": "markdown",
   "metadata": {},
   "source": [
    "\n",
    "# Smartcab Report\n",
    "<p> Alex Leu </p>"
   ]
  },
  {
   "cell_type": "markdown",
   "metadata": {},
   "source": [
    "**In your report, mention what you see in the agent’s behavior. Does it eventually make it to the target location?**\n",
    "\n",
    "The agent has the motion of either going none, forward, left and right. If there is an oncoming car, or the traffic light is red, it would prevent the agent from moving forward. The agent eventually makes it to the target locaiton when the dealine criteria is turned to \"False.\""
   ]
  },
  {
   "cell_type": "markdown",
   "metadata": {},
   "source": [
    "**Justify why you picked these set of states, and how they model the agent and its environment.**\n",
    "\n",
    "The state shows whether there is a green/red lights, the next action of where the agent is going to, and the deadline. It can either go \"none\", \"forward\", \"left\", \"right\".\n",
    "\n",
    "The directions were picked as they were the only valid actions the agents can take. The states were shown to be what could get affect the motion of the agent, referenced from the dummy agent.\n",
    "\n",
    "By setting up as the deadline limit, it provides limited number of tries the agent can do to get to the destination. If we do not have the deadline limit, the agent will eventually reach to the point, as there is a finite grid of the table.\n",
    "\n",
    "Within the Q-modeling, the state picks up whether the traffic light is green/red, 'oncoming', 'left, and waypoint. I did not take in 'right', as knowing the status of the 'left' will indicate whether there is a right. Traffic light provides whether the car can move or not, 'oncoming' shows whether there is a car that is blocking the agent's way, 'left' shows how the car is making it's next poing, and the waypoint shows where the destination is."
   ]
  },
  {
   "cell_type": "markdown",
   "metadata": {},
   "source": [
    "**What changes do you notice in the agent’s behavior?**\n",
    "\n",
    "It stays stationary a lot at first. After it picks up, and gets close to the target, it often turns in a circle.\n",
    "We can see the agent is learning, and trying to reach to the destination."
   ]
  },
  {
   "cell_type": "markdown",
   "metadata": {},
   "source": [
    "**Report what changes you made to your basic implementation of Q-Learning to achieve the final version of the agent. How well does it perform?\n",
    "Does your agent get close to finding an optimal policy, i.e. reach the destination in the minimum possible time, and not incur any penalties?**\n",
    "\n",
    "Here are the list of changes regarding to the constants for alpha, gamma, and epison. We went through the trial and erorr to find out the best tuning for the algorithmn. By changing/tuning over the values, we found the the tuning is at the most optimal at.\n",
    "\n",
    "Here's the chart for the tuning:\n",
    "\n",
    "alpha|gamma|episilon|deadline\n",
    "---|---|---|---\n",
    "0.25|0.25|0.25|-41\n",
    "0.25|0.25|0.5|-83\n",
    "0.25|0.25|0.75|-19\n",
    "0.25|0.25|1|5\n",
    "0.25|0.5|0.25|-23\n",
    "0.25|0.5|0.5|24\n",
    "0.25|0.5|0.75|-6\n",
    "0.25|0.5|1|-45\n",
    "0.25|0.75|0.25|-5\n",
    "0.25|0.75|0.5|-14\n",
    "0.25|0.75|0.75|-183\n",
    "0.25|0.75|1|-6\n",
    "0.25|1.0|0.25|20\n",
    "0.5|0.5|0.5|-44\n",
    "0.75|0.5|0.5|-39\n",
    "0.75|0.75|0.5|8\n",
    "0.75|0.75|0.75|-3\n",
    "1|0.75|0.75|-6\n",
    "1|1|0.75|-112\n",
    "1|1|1|-82\n",
    "\n"
   ]
  },
  {
   "cell_type": "code",
   "execution_count": null,
   "metadata": {
    "collapsed": true
   },
   "outputs": [],
   "source": []
  }
 ],
 "metadata": {
  "kernelspec": {
   "display_name": "Python 2",
   "language": "python",
   "name": "python2"
  },
  "language_info": {
   "codemirror_mode": {
    "name": "ipython",
    "version": 2
   },
   "file_extension": ".py",
   "mimetype": "text/x-python",
   "name": "python",
   "nbconvert_exporter": "python",
   "pygments_lexer": "ipython2",
   "version": "2.7.11"
  }
 },
 "nbformat": 4,
 "nbformat_minor": 0
}
