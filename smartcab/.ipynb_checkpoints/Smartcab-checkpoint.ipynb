{
 "cells": [
  {
   "cell_type": "markdown",
   "metadata": {},
   "source": [
    "\n",
    "# Smartcab Report\n",
    "<p> Alex Leu </p>"
   ]
  },
  {
   "cell_type": "markdown",
   "metadata": {},
   "source": [
    "In your report, mention what you see in the agent’s behavior. Does it eventually make it to the target location?\n",
    "\n",
    "The agent does not make it to the target location. Regardless of how many trial was tested."
   ]
  },
  {
   "cell_type": "markdown",
   "metadata": {},
   "source": [
    "**Justify why you picked these set of states, and how they model the agent and its environment.**\n",
    "\n",
    "The state shows whether there are oncoming car, whether there is a green/red lights, and the next action of where the agent is going to. It can either go \"none\", \"forward\", \"left\", \"right\".\n",
    "\n",
    "The directions were picked as they were the only valid actions the agents can take. The states were shown to be what could get affect the motion of the agent, referenced from the dummy agent."
   ]
  },
  {
   "cell_type": "markdown",
   "metadata": {},
   "source": [
    "**What changes do you notice in the agent’s behavior?**\n",
    "\n",
    "I am unable to make the agent to hit the target as often as possible. Need help on how to approach the next step."
   ]
  },
  {
   "cell_type": "markdown",
   "metadata": {},
   "source": [
    "**Report what changes you made to your basic implementation of Q-Learning to achieve the final version of the agent. How well does it perform?\n",
    "Does your agent get close to finding an optimal policy, i.e. reach the destination in the minimum possible time, and not incur any penalties?**\n",
    "\n",
    "I had not make changes. Needed assistance on how to tune the agents correctly."
   ]
  }
 ],
 "metadata": {
  "kernelspec": {
   "display_name": "Python 2",
   "language": "python",
   "name": "python2"
  },
  "language_info": {
   "codemirror_mode": {
    "name": "ipython",
    "version": 2
   },
   "file_extension": ".py",
   "mimetype": "text/x-python",
   "name": "python",
   "nbconvert_exporter": "python",
   "pygments_lexer": "ipython2",
   "version": "2.7.11"
  }
 },
 "nbformat": 4,
 "nbformat_minor": 0
}
